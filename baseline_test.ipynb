{
 "cells": [
  {
   "cell_type": "markdown",
   "metadata": {},
   "source": [
    "## Test for testing baseline methods\n",
    "### Supervised: SVM, RF, XGBOOST\n",
    "### Semi-supervised: TSVM"
   ]
  },
  {
   "cell_type": "code",
   "execution_count": 4,
   "metadata": {},
   "outputs": [],
   "source": [
    "import numpy as np\n",
    "import visdom\n",
    "import utils\n",
    "import seaborn as sns\n",
    "from datasets import get_patch_data, get_pixel_idx, HyperX_patches\n",
    "import os\n",
    "from sklearn import preprocessing\n",
    "from sklearn.decomposition import PCA\n",
    "import random\n",
    "import math\n",
    "from matplotlib import pyplot as plt\n",
    "import torch.utils.data as data"
   ]
  },
  {
   "cell_type": "code",
   "execution_count": 53,
   "metadata": {},
   "outputs": [
    {
     "name": "stderr",
     "output_type": "stream",
     "text": [
      "Setting up a new session...\n"
     ]
    }
   ],
   "source": [
    "vis = visdom.Visdom()"
   ]
  },
  {
   "cell_type": "code",
   "execution_count": 74,
   "metadata": {},
   "outputs": [],
   "source": [
    "data_path = '/home/oscar/Desktop/Exjobb/Data/ieee_supplement/Hyperspectral_Grids/Salinas/'\n",
    "\n",
    "label_values = [\"Undefined\", \"Brocoli_green_weeds_1\", \"Brocoli_green_weeds_2\", \"Fallow\",\n",
    "                        \"Fallow_rough_plow\", \"Fallow_smooth\", \"Stubble\",\n",
    "                        \"Celery\", \"Grapes_untrained\", \"Soil_vinyard_develop\",\n",
    "                        \"Corn_senesced_green_weeds\", \"Lettuce_romaine_4wk\", \"Lettuce_romaine_5wk\",\n",
    "                        \"Lettuce_romaine_6wk\", \"Lettuce_romaine_7wk\", \"Vinyard_untrained\",\n",
    "                        \"Vinyard_vertical_trellis\"]\n",
    "\n",
    "palette = None\n",
    "rgb_bands = (43, 21, 11)\n",
    "\n",
    "if palette is None:\n",
    "    # Generate color palette\n",
    "    palette = {0: (0, 0, 0)}\n",
    "    for k, color in enumerate(sns.color_palette(\"hls\", len(label_values) - 1)):\n",
    "        palette[k + 1] = tuple(np.asarray(255 * np.array(color), dtype='uint8'))\n",
    "invert_palette = {v: k for k, v in palette.items()}\n",
    "\n",
    "def convert_to_color(x):\n",
    "    return utils.convert_to_color_(x, palette=palette)\n",
    "def convert_from_color(x):\n",
    "    return utils.convert_from_color_(x, palette=invert_palette)"
   ]
  },
  {
   "cell_type": "code",
   "execution_count": 67,
   "metadata": {},
   "outputs": [],
   "source": [
    "fold = 0\n",
    "\n",
    "train_img, train_gt, test_img, test_gt, label_values, ignored_labels, rgb_bands, palette = get_patch_data('Salinas', 5, target_folder=data_path, fold=fold)\n",
    "\n",
    "n_bands = train_img.shape[-1]\n",
    "n_classes = len(label_values) - len(ignored_labels)\n",
    "\n",
    "idx_sup, idx_val, idx_unsup = get_pixel_idx(train_img, train_gt, ignored_labels, 5)\n",
    "\n",
    "hyperparams = {'patch_size': 5, 'dataset': 'Salinas', 'ignored_labels': ignored_labels, \n",
    "               'flip_augmentation': False, 'radiation_augmentation': False, 'mixture_augmentation': False,\n",
    "              'center_pixel': True, 'supervision': 'full', 'pca_augmentation': False, 'pca_strength': 1, 'cutout_spatial': False,\n",
    "              'cutout_spectral': False, 'augmentation_magnitude': 1, 'spatial_combinations': False, 'spectral_mean': False,\n",
    "              'moving_average': False}\n",
    "\n",
    "val_dataset = HyperX_patches(train_img, train_gt, idx_val, labeled=True, **hyperparams)\n",
    "val_loader = data.DataLoader(val_dataset, batch_size=10)\n",
    "\n",
    "train_labeled_dataset = HyperX_patches(train_img, train_gt, idx_sup, labeled=True, **hyperparams)\n",
    "train_labeled_loader = data.DataLoader(train_labeled_dataset, batch_size=len(idx_sup),\n",
    "                                       #pin_memory=True, num_workers=5,\n",
    "                                       shuffle=True, drop_last=True)\n",
    "\n",
    "unlabeled_ratio = math.ceil(len(idx_unsup)/len(idx_sup))\n",
    "\n",
    "train_unlabeled_dataset = HyperX_patches(train_img, train_gt, idx_unsup, labeled=False, **hyperparams)\n",
    "train_unlabeled_loader = data.DataLoader(train_unlabeled_dataset, batch_size=len(idx_unsup),\n",
    "                                       #pin_memory=True, num_workers=5,\n",
    "                                       shuffle=True, drop_last=True)\n",
    "amount_labeled = idx_sup.shape[0]"
   ]
  },
  {
   "cell_type": "markdown",
   "metadata": {},
   "source": [
    "Move data to simple list with pixel form"
   ]
  },
  {
   "cell_type": "code",
   "execution_count": 82,
   "metadata": {},
   "outputs": [],
   "source": [
    "i = 0\n",
    "X = np.zeros((len(idx_sup), n_bands))\n",
    "Y = np.zeros(len(idx_sup))\n",
    "for p, x, y in idx_sup:\n",
    "    X[i, :] = train_img[p,x,y]\n",
    "    Y[i] = train_gt[p,x,y] - 1\n",
    "    i += 1"
   ]
  },
  {
   "cell_type": "markdown",
   "metadata": {},
   "source": [
    "### SVM"
   ]
  },
  {
   "cell_type": "code",
   "execution_count": 83,
   "metadata": {},
   "outputs": [],
   "source": [
    "import sklearn.svm as SVM"
   ]
  },
  {
   "cell_type": "code",
   "execution_count": 84,
   "metadata": {},
   "outputs": [
    {
     "name": "stderr",
     "output_type": "stream",
     "text": [
      "/home/oscar/anaconda3/lib/python3.7/site-packages/sklearn/model_selection/_split.py:1978: FutureWarning: The default value of cv will change from 3 to 5 in version 0.22. Specify it explicitly to silence this warning.\n",
      "  warnings.warn(CV_WARNING, FutureWarning)\n",
      "[Parallel(n_jobs=4)]: Using backend LokyBackend with 4 concurrent workers.\n"
     ]
    },
    {
     "name": "stdout",
     "output_type": "stream",
     "text": [
      "Fitting 3 folds for each of 4 candidates, totalling 12 fits\n"
     ]
    },
    {
     "name": "stderr",
     "output_type": "stream",
     "text": [
      "[Parallel(n_jobs=4)]: Done   8 out of  12 | elapsed:    5.4s remaining:    2.7s\n",
      "[Parallel(n_jobs=4)]: Done  12 out of  12 | elapsed:    8.0s finished\n"
     ]
    },
    {
     "name": "stdout",
     "output_type": "stream",
     "text": [
      "SVMs best params: {'C': 1000, 'gamma': 0.5, 'kernel': 'rbf'} \n"
     ]
    }
   ],
   "source": [
    "SVM_GRID_PARAMS = [{'kernel': ['rbf'], 'gamma': [5e-1, 2e-1], 'C': [1000, 1500]}]\n",
    "\n",
    "class_weight = None\n",
    "clf = SVM.SVC(class_weight=class_weight)\n",
    "clf = sklearn.model_selection.GridSearchCV(clf, SVM_GRID_PARAMS, verbose=5, n_jobs=4)\n",
    "clf.fit(X, Y)\n",
    "print('SVMs best params: {} '.format(clf.best_params_))\n",
    "#save_model(clf, 'SVM', 'Salinas')\n",
    "prediction = clf.predict(test_img.reshape(-1, n_bands))\n",
    "prediction = prediction.reshape(test_img.shape[:2])"
   ]
  },
  {
   "cell_type": "markdown",
   "metadata": {},
   "source": [
    "### Random Forest"
   ]
  },
  {
   "cell_type": "code",
   "execution_count": 86,
   "metadata": {},
   "outputs": [],
   "source": [
    "from sklearn.ensemble import RandomForestClassifier\n",
    "import sklearn"
   ]
  },
  {
   "cell_type": "code",
   "execution_count": 87,
   "metadata": {},
   "outputs": [],
   "source": [
    "#RF_GRID_PARAMS = [{'max_depth': [32, 256, 512], 'n_estimators': [100, 200, 400]}]\n",
    "\n",
    "clf = RandomForestClassifier(n_estimators = 200, min_samples_split=2, \\\n",
    "                    max_features=10, max_depth=10)\n",
    "#clf = sklearn.model_selection.GridSearchCV(clf, RF_GRID_PARAMS, verbose=5, n_jobs=4)\n",
    "clf.fit(X, Y)\n",
    "#print('RFs best params: {} '.format(clf.best_params_))\n",
    "\n",
    "prediction = clf.predict(test_img.reshape(-1, n_bands))\n",
    "prediction = prediction.reshape(test_img.shape[:2])"
   ]
  },
  {
   "cell_type": "markdown",
   "metadata": {},
   "source": [
    "### XGBoost"
   ]
  },
  {
   "cell_type": "code",
   "execution_count": 90,
   "metadata": {},
   "outputs": [],
   "source": [
    "from xgboost import XGBClassifier"
   ]
  },
  {
   "cell_type": "code",
   "execution_count": 91,
   "metadata": {},
   "outputs": [],
   "source": [
    "clf = XGBClassifier()\n",
    "clf.fit(X, Y)\n",
    "\n",
    "prediction = clf.predict(test_img.reshape(-1, n_bands))\n",
    "prediction = prediction.reshape(test_img.shape[:2])"
   ]
  },
  {
   "cell_type": "markdown",
   "metadata": {},
   "source": [
    "## Run results"
   ]
  },
  {
   "cell_type": "code",
   "execution_count": 92,
   "metadata": {},
   "outputs": [
    {
     "name": "stdout",
     "output_type": "stream",
     "text": [
      "Confusion matrix :\n",
      "[[1625  162    0    0    0    0    0    0    0    0    0    0    0    0\n",
      "     0    0]\n",
      " [  10 3216    0    0    0    0    0    4    0    0    0    0   12  114\n",
      "     0    0]\n",
      " [   0    0    0    0 1031    0    0    0   22  908   13    2    0    0\n",
      "     0    0]\n",
      " [   0    0    0    0    8    0    0   10    0    0    0    0    0    0\n",
      "    11 1365]\n",
      " [   0    0    0    0 2301    0    0    1    0    5    1    0    0    0\n",
      "     0  219]\n",
      " [   0  912    0    0    1    0    0   12    2  643   18    0    6 2365\n",
      "     0    0]\n",
      " [ 177    0    0    0    1    0    0 2795    0    0    0    0    0    0\n",
      "   606    0]\n",
      " [   0    0    0    0    0    0    0 7526    1  151    1    0    6    9\n",
      "  2160    6]\n",
      " [   0    0    0    0    0    0    0    1 4488  728  764    0    2    0\n",
      "     0    0]\n",
      " [   0    0    0    0   11    0    0   34   34 2285   25    1    3    5\n",
      "    23   20]\n",
      " [   0    0    0    0    3    0    0    0   69  108  783    5    0    0\n",
      "     0    0]\n",
      " [   0    0    0    0    1    0    0    8    0 1238    0  273    0    0\n",
      "     0  383]\n",
      " [   0    0    0    0    0    0    0  109    0    9    0    0  740   15\n",
      "     2    0]\n",
      " [   0    0    0    0    0    0    0   32    0   10    0    0   34  807\n",
      "     0    0]\n",
      " [   0    0    0    0    0    0    0 1721    0   14    0    0    0    0\n",
      "  4184   39]\n",
      " [   5    0    0    0    0    0    0   45    0    0    0    0    0    0\n",
      "  1685   43]]---\n",
      "Accuracy : 57.430%\n",
      "---\n",
      "F1 scores :\n",
      "\tBrocoli_green_weeds_1: 0.902\n",
      "\tBrocoli_green_weeds_2: 0.841\n",
      "\tFallow: 0.000\n",
      "\tFallow_rough_plow: 0.000\n",
      "\tFallow_smooth: 0.782\n",
      "\tStubble: 0.000\n",
      "\tCelery: 0.000\n",
      "\tGrapes_untrained: 0.679\n",
      "\tSoil_vinyard_develop: 0.847\n",
      "\tCorn_senesced_green_weeds: 0.535\n",
      "\tLettuce_romaine_4wk: 0.609\n",
      "\tLettuce_romaine_5wk: 0.250\n",
      "\tLettuce_romaine_6wk: 0.882\n",
      "\tLettuce_romaine_7wk: 0.384\n",
      "\tVinyard_untrained: 0.572\n",
      "\tVinyard_vertical_trellis: 0.022\n",
      "---\n",
      "Kappa: 0.525\n",
      "\n",
      "              precision    recall  f1-score   support\n",
      "\n",
      "           0       0.89      0.91      0.90      1787\n",
      "           1       0.75      0.96      0.84      3356\n",
      "           2       0.00      0.00      0.00      1976\n",
      "           3       0.00      0.00      0.00      1394\n",
      "           4       0.69      0.91      0.78      2527\n",
      "           5       0.00      0.00      0.00      3959\n",
      "           6       0.00      0.00      0.00      3579\n",
      "           7       0.61      0.76      0.68      9860\n",
      "           8       0.97      0.75      0.85      5983\n",
      "           9       0.37      0.94      0.54      2441\n",
      "          10       0.49      0.81      0.61       968\n",
      "          11       0.97      0.14      0.25      1903\n",
      "          12       0.92      0.85      0.88       875\n",
      "          13       0.24      0.91      0.38       883\n",
      "          14       0.48      0.70      0.57      5958\n",
      "          15       0.02      0.02      0.02      1778\n",
      "\n",
      "    accuracy                           0.57     49227\n",
      "   macro avg       0.46      0.54      0.46     49227\n",
      "weighted avg       0.51      0.57      0.51     49227\n",
      "\n"
     ]
    },
    {
     "name": "stderr",
     "output_type": "stream",
     "text": [
      "/home/oscar/anaconda3/lib/python3.7/site-packages/sklearn/metrics/classification.py:1437: UndefinedMetricWarning: Precision and F-score are ill-defined and being set to 0.0 in labels with no predicted samples.\n",
      "  'precision', 'predicted', average, warn_for)\n"
     ]
    }
   ],
   "source": [
    "run_results = utils.metrics(prediction, test_gt, ignored_labels=ignored_labels, n_classes=n_classes)\n",
    "\n",
    "mask = np.zeros(test_gt.shape, dtype='bool')\n",
    "for l in ignored_labels:\n",
    "    mask[test_gt == l] = True\n",
    "prediction += 1\n",
    "prediction[mask] = 0\n",
    "\n",
    "color_prediction = convert_to_color(prediction)\n",
    "utils.display_predictions(color_prediction, vis, gt=convert_to_color(test_gt), caption=\"Prediction vs. test ground truth\")\n",
    "\n",
    "utils.show_results(run_results, vis, label_values=label_values)"
   ]
  },
  {
   "cell_type": "code",
   "execution_count": null,
   "metadata": {},
   "outputs": [],
   "source": []
  }
 ],
 "metadata": {
  "kernelspec": {
   "display_name": "Python 3",
   "language": "python",
   "name": "python3"
  },
  "language_info": {
   "codemirror_mode": {
    "name": "ipython",
    "version": 3
   },
   "file_extension": ".py",
   "mimetype": "text/x-python",
   "name": "python",
   "nbconvert_exporter": "python",
   "pygments_lexer": "ipython3",
   "version": "3.7.4"
  }
 },
 "nbformat": 4,
 "nbformat_minor": 2
}
