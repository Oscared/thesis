{
 "cells": [
  {
   "cell_type": "code",
   "execution_count": 3,
   "metadata": {},
   "outputs": [],
   "source": [
    "data_path = '/home/oscar/Desktop/Exjobb/Data/ieee_supplement/Hyperspectral_Grids/Salinas/'"
   ]
  },
  {
   "cell_type": "code",
   "execution_count": 4,
   "metadata": {},
   "outputs": [],
   "source": [
    "import numpy as np\n",
    "import visdom\n",
    "import utils\n",
    "import seaborn as sns\n",
    "from datasets import get_dataset, HyperX\n",
    "import os\n",
    "from sklearn import preprocessing\n",
    "from sklearn.decomposition import PCA, FastICA\n",
    "import random\n",
    "from data_augmentation import RandAugment\n",
    "from matplotlib import pyplot as plt"
   ]
  },
  {
   "cell_type": "code",
   "execution_count": null,
   "metadata": {},
   "outputs": [],
   "source": [
    "vis = visdom.Visdom()"
   ]
  },
  {
   "cell_type": "code",
   "execution_count": 5,
   "metadata": {},
   "outputs": [],
   "source": [
    "label_values = [\"Undefined\", \"Brocoli_green_weeds_1\", \"Brocoli_green_weeds_2\", \"Fallow\",\n",
    "                        \"Fallow_rough_plow\", \"Fallow_smooth\", \"Stubble\",\n",
    "                        \"Celery\", \"Grapes_untrained\", \"Soil_vinyard_develop\",\n",
    "                        \"Corn_senesced_green_weeds\", \"Lettuce_romaine_4wk\", \"Lettuce_romaine_5wk\",\n",
    "                        \"Lettuce_romaine_6wk\", \"Lettuce_romaine_7wk\", \"Vinyard_untrained\",\n",
    "                        \"Vinyard_vertical_trellis\"]\n",
    "\n",
    "palette = None\n",
    "rgb_bands = (43, 21, 11)\n",
    "\n",
    "if palette is None:\n",
    "    # Generate color palette\n",
    "    palette = {0: (0, 0, 0)}\n",
    "    for k, color in enumerate(sns.color_palette(\"hls\", len(label_values) - 1)):\n",
    "        palette[k + 1] = tuple(np.asarray(255 * np.array(color), dtype='uint8'))\n",
    "invert_palette = {v: k for k, v in palette.items()}\n",
    "\n",
    "def convert_to_color(x):\n",
    "    return utils.convert_to_color_(x, palette=palette)\n",
    "def convert_from_color(x):\n",
    "    return utils.convert_from_color_(x, palette=invert_palette)"
   ]
  },
  {
   "cell_type": "code",
   "execution_count": 6,
   "metadata": {},
   "outputs": [],
   "source": [
    "#train_patches = np.zeros(int((len(os.listdir(data_path + '/salinas_fold_0/'))-3)/2))\n",
    "#train_gt = np.copy(train_patches)\n",
    "\n",
    "train_patches = []\n",
    "train_gt = []\n",
    "\n",
    "for i in (range(int((len(os.listdir(data_path + '/salinas_fold_0/'))-3)/2))):\n",
    "    #train_patches[i] = np.load(data_path + '/salinas_fold_0/patch_{}.npy'.format(i))\n",
    "    #train_gt[i] = np.load(data_path + '/salinas_fold_0/patch_{}_gt.npy'.format(i))\n",
    "    \n",
    "    train_patches.append(np.load(data_path + '/salinas_fold_0/patch_{}.npy'.format(i)))\n",
    "    train_gt.append(np.load(data_path + '/salinas_fold_0/patch_{}_gt.npy'.format(i)))\n",
    "\n",
    "test = np.load(data_path + '/salinas_fold_0/test.npy')\n",
    "test_gt = np.load(data_path + '/salinas_fold_0/test_gt.npy') "
   ]
  },
  {
   "cell_type": "code",
   "execution_count": 57,
   "metadata": {},
   "outputs": [],
   "source": [
    "randaugment = RandAugment(2, 10, 5)"
   ]
  },
  {
   "cell_type": "code",
   "execution_count": 62,
   "metadata": {},
   "outputs": [
    {
     "data": {
      "text/plain": [
       "array([[[297, 394, 586, ...,  26,   9,  15],\n",
       "        [368, 394, 651, ...,  18,  13,  15],\n",
       "        [297, 394, 586, ...,  18,  11,   9],\n",
       "        [368, 394, 520, ...,  16,   0,   6],\n",
       "        [368, 394, 586, ...,  12,   5,   6]],\n",
       "\n",
       "       [[356, 486, 531, ...,  19,   7,  12],\n",
       "        [285, 402, 662, ...,  21,   5,   8],\n",
       "        [213, 402, 597, ...,  15,   3,   6],\n",
       "        [285, 402, 597, ...,   5,   1,   2],\n",
       "        [285, 319, 531, ...,   3,   1,   0]],\n",
       "\n",
       "       [[291, 478, 602, ...,   8,   9,   8],\n",
       "        [291, 394, 537, ...,   2,  -3,   8],\n",
       "        [291, 394, 537, ...,   4,   3,   6],\n",
       "        [291, 394, 537, ...,  16,   9,   0],\n",
       "        [291, 394, 537, ...,  16,  -1,  10]],\n",
       "\n",
       "       [[301, 312, 529, ...,   5,   9,  11],\n",
       "        [301, 312, 595, ...,  15,   3,  13],\n",
       "        [373, 396, 529, ...,  17,   5,   7],\n",
       "        [230, 396, 529, ...,  21,   7,   7],\n",
       "        [373, 479, 529, ...,  19,   9,  21]],\n",
       "\n",
       "       [[373, 396, 599, ...,  25,   9,   5],\n",
       "        [230, 312, 534, ...,  17,   7,  11],\n",
       "        [301, 312, 534, ...,  21,   5,  13],\n",
       "        [230, 396, 534, ...,  13,   3,   7],\n",
       "        [301, 396, 599, ...,  21,   9,  11]]], dtype=int16)"
      ]
     },
     "execution_count": 62,
     "metadata": {},
     "output_type": "execute_result"
    }
   ],
   "source": [
    "test = train_patches[0][5:10,5:10,:]\n",
    "test"
   ]
  },
  {
   "cell_type": "code",
   "execution_count": 98,
   "metadata": {},
   "outputs": [
    {
     "name": "stdout",
     "output_type": "stream",
     "text": [
      "<function moving_average at 0x7f8565917680>\n",
      "<function spectral_mean at 0x7f85659175f0>\n"
     ]
    },
    {
     "name": "stderr",
     "output_type": "stream",
     "text": [
      "/home/oscar/anaconda3/lib/python3.7/site-packages/ipykernel_launcher.py:1: FutureWarning: arrays to stack must be passed as a \"sequence\" type such as list or tuple. Support for non-sequence iterables such as generators is deprecated as of NumPy 1.16 and will raise an error in the future.\n",
      "  \"\"\"Entry point for launching an IPython kernel.\n"
     ]
    }
   ],
   "source": [
    "aug_data = randaugment(train_patches[0][5:10,5:10,:])"
   ]
  },
  {
   "cell_type": "code",
   "execution_count": 99,
   "metadata": {},
   "outputs": [
    {
     "data": {
      "text/plain": [
       "[<matplotlib.lines.Line2D at 0x7f8564408210>]"
      ]
     },
     "execution_count": 99,
     "metadata": {},
     "output_type": "execute_result"
    },
    {
     "data": {
      "image/png": "[encoded data removed]",
      "text/plain": [
       "<Figure size 432x288 with 1 Axes>"
      ]
     },
     "metadata": {
      "needs_background": "light"
     },
     "output_type": "display_data"
    }
   ],
   "source": [
    "plt.plot(test[2,2,:])\n",
    "plt.plot(aug_data[2,2,:])"
   ]
  },
  {
   "cell_type": "code",
   "execution_count": 91,
   "metadata": {},
   "outputs": [
    {
     "data": {
      "image/png": "[encoded data removed]",
      "text/plain": [
       "<Figure size 432x288 with 1 Axes>"
      ]
     },
     "metadata": {
      "needs_background": "light"
     },
     "output_type": "display_data"
    }
   ],
   "source": [
    "for x in range(test.shape[0]):\n",
    "    for y in range(test.shape[1]):\n",
    "        plt.plot(test[x,y,:])\n",
    "#plt.plot(aug_data[2,2,:])"
   ]
  },
  {
   "cell_type": "code",
   "execution_count": 86,
   "metadata": {},
   "outputs": [
    {
     "data": {
      "image/png": "[encoded data removed]",
      "text/plain": [
       "<Figure size 432x288 with 1 Axes>"
      ]
     },
     "metadata": {
      "needs_background": "light"
     },
     "output_type": "display_data"
    }
   ],
   "source": [
    "for x in range(test.shape[0]):\n",
    "    for y in range(test.shape[1]):\n",
    "        plt.plot(aug_data[x,y,:])"
   ]
  },
  {
   "cell_type": "code",
   "execution_count": null,
   "metadata": {},
   "outputs": [],
   "source": [
    "A = np.array([[[1,2],[3,4]],[[5,6],[7,8]]])\n",
    "np.flip(A, axis=-1)"
   ]
  },
  {
   "cell_type": "code",
   "execution_count": null,
   "metadata": {},
   "outputs": [],
   "source": [
    "rgb_bands = (55, 41, 12)\n",
    "label_values = ['Undefined', 'Asphalt', 'Meadows', 'Gravel', 'Trees',\n",
    "                        'Painted metal sheets', 'Bare Soil', 'Bitumen',\n",
    "                        'Self-Blocking Bricks', 'Shadows']\n",
    "ignored_labels = [0]\n",
    "\n",
    "palette = None\n",
    "\n",
    "if palette is None:\n",
    "    # Generate color palette\n",
    "    palette = {0: (0, 0, 0)}\n",
    "    for k, color in enumerate(sns.color_palette(\"hls\", len(label_values) - 1)):\n",
    "        palette[k + 1] = tuple(np.asarray(255 * np.array(color), dtype='uint8'))\n",
    "invert_palette = {v: k for k, v in palette.items()}\n",
    "\n",
    "def convert_to_color(x):\n",
    "    return utils.convert_to_color_(x, palette=palette)\n",
    "def convert_from_color(x):\n",
    "    return utils.convert_from_color_(x, palette=invert_palette)\n",
    "\n",
    "img_unlabeled, gt, _, _, _, _ = get_dataset('PaviaC', target_folder='/home/oscar/Desktop/Exjobb/Data/')\n",
    "\n",
    "utils.display_predictions(convert_to_color(gt[:,:]), vis, writer=None,\n",
    "                                  caption=\"Test ground truth\")"
   ]
  },
  {
   "cell_type": "code",
   "execution_count": null,
   "metadata": {},
   "outputs": [],
   "source": [
    "gt.shape\n",
    "utils.display_predictions(convert_to_color(gt[:,:223]), vis, writer=None,\n",
    "                                  caption=\"Test ground truth\")\n",
    "utils.display_predictions(convert_to_color(gt[:,223:]), vis, writer=None,\n",
    "                                  caption=\"Test ground truth\")"
   ]
  },
  {
   "cell_type": "code",
   "execution_count": null,
   "metadata": {},
   "outputs": [],
   "source": [
    "img_1 = img_unlabeled[:,:223,:]\n",
    "img_1 = img_1.reshape(1, img_1.shape[0], img_1.shape[1], img_1.shape[2])\n",
    "print(img_1[:,:,:,-1].shape)\n",
    "print(img_1.shape)\n",
    "img_1 = np.concatenate((img_1, img_1[:,:,:,-1, np.newaxis]), axis=-1)\n",
    "img_1.shape"
   ]
  },
  {
   "cell_type": "code",
   "execution_count": null,
   "metadata": {},
   "outputs": [],
   "source": [
    "mask = np.ones_like(train_gt)\n",
    "print(np.count_nonzero(mask))\n",
    "for i in range(len(mask)):\n",
    "    mask[i, train_gt[i] == 0] = 0\n",
    "print(np.count_nonzero(mask))\n",
    "p,x,y = np.nonzero(mask)\n",
    "print(str(p) + ' ' + str(x) + '' + str(y))\n",
    "p_u, x_u, y_u = np.nonzero(mask==0)"
   ]
  },
  {
   "cell_type": "code",
   "execution_count": null,
   "metadata": {},
   "outputs": [],
   "source": [
    "gt_np = np.array(train_gt)\n",
    "train_np = np.array(train_patches)"
   ]
  },
  {
   "cell_type": "code",
   "execution_count": null,
   "metadata": {},
   "outputs": [],
   "source": [
    "idx = set()\n",
    "\n",
    "while len(idx) < 0.05*np.prod(gt_np.shape):\n",
    "    p = np.random.randint(gt_np.shape[0])\n",
    "    x = np.random.randint(gt_np.shape[1])\n",
    "    y = np.random.randint(gt_np.shape[2])\n",
    "    if (p,x,y) not in idx:\n",
    "        idx.add((p,x,y))"
   ]
  },
  {
   "cell_type": "code",
   "execution_count": null,
   "metadata": {},
   "outputs": [],
   "source": [
    "idx_np = np.array(list(idx))\n",
    "idx_np"
   ]
  },
  {
   "cell_type": "code",
   "execution_count": null,
   "metadata": {},
   "outputs": [],
   "source": [
    "train_np.shape"
   ]
  },
  {
   "cell_type": "code",
   "execution_count": null,
   "metadata": {},
   "outputs": [],
   "source": [
    "ignored_labels = [0]\n",
    "patch_size = 5\n",
    "\n",
    "pad_width = patch_size // 2\n",
    "\n",
    "train_np = np.pad(train_np, ((0,0), (pad_width, pad_width), (pad_width, pad_width), (0,0)))\n",
    "gt_np = np.pad(gt_np, ((0,0), (pad_width, pad_width), (pad_width, pad_width)))"
   ]
  },
  {
   "cell_type": "code",
   "execution_count": null,
   "metadata": {},
   "outputs": [],
   "source": [
    "mask = np.ones_like(gt_np)\n",
    "for l in ignored_labels:\n",
    "    mask[gt_np == l] = 0\n",
    "patch_labeled, x_labeled, y_labeled = np.nonzero(mask)\n",
    "\n",
    "for l in ignored_labels:\n",
    "    patch_unlabeled, x_unlabeled, y_unlabeled = np.nonzero(mask==l)\n",
    "\n",
    "p = patch_size // 2\n",
    "\n",
    "indices_labeled = np.array([(p_l, x_l, y_l) for p_l, x_l, y_l in zip(patch_labeled, x_labeled, y_labeled) if x_l >= p and x_l < train_np.shape[1] - p and y_l >= p and y_l < train_np.shape[2] - p])\n",
    "labels = [gt_np[p_l, x_l, y_l] for p_l, x_l, y_l in indices_labeled]\n",
    "\n",
    "indices_unlabeled = np.array([(p_u, x_u, y_u) for p_u, x_u, y_u in zip(patch_unlabeled, x_unlabeled, y_unlabeled) if x_u >= p and x_u < train_np.shape[1] - p and y_u >= p and y_u < train_np.shape[2] - p])\n",
    "\n",
    "indices_labeled_shuffle = np.copy(indices_labeled)\n",
    "indices_unlabeled_shuffle = np.copy(indices_unlabeled)\n",
    "\n",
    "np.random.shuffle(indices_labeled_shuffle)\n",
    "np.random.shuffle(indices_unlabeled_shuffle)"
   ]
  },
  {
   "cell_type": "code",
   "execution_count": null,
   "metadata": {},
   "outputs": [],
   "source": [
    "p, x, y = indices_labeled[0]\n",
    "\n",
    "data = train_np[p, x-pad_width:x - pad_width + patch_size, y-pad_width:y-pad_width+patch_size]\n",
    "\n",
    "label = gt_np[p, x-pad_width:x - pad_width + patch_size, y-pad_width:y-pad_width+patch_size]\n",
    "labels[0]"
   ]
  },
  {
   "cell_type": "code",
   "execution_count": null,
   "metadata": {},
   "outputs": [],
   "source": [
    "reshape = train_np.reshape(np.prod(train_np.shape[:3]), np.prod(train_np.shape[3:]))\n",
    "scaler = preprocessing.MinMaxScaler()\n",
    "reshape = scaler.fit_transform(reshape)\n",
    "img_list = reshape.reshape(train_np.shape)\n",
    "\n",
    "test = np.asarray(test, dtype='float32')\n",
    "data_test = test.reshape(np.prod(test.shape[:2]), np.prod(test.shape[2:]))\n",
    "data_test = scaler.transform(data_test)\n",
    "test_patch = data_test.reshape(test.shape)"
   ]
  },
  {
   "cell_type": "code",
   "execution_count": null,
   "metadata": {},
   "outputs": [],
   "source": [
    "np.max((test - np.min(train_np))/(np.max(train_np) - np.min(train_np)))"
   ]
  },
  {
   "cell_type": "code",
   "execution_count": null,
   "metadata": {},
   "outputs": [],
   "source": [
    "x_size = train_np[0].shape[0]\n",
    "y_size = train_np[0].shape[1]\n",
    "data_train = np.array([train_np[p_l, x_l, y_l] for p_l, x_l, y_l in zip(patch_labeled, x_labeled, y_labeled) if x_l >= p and x_l < x_size - p and y_l >= p and y_l < y_size - p])\n",
    "\n",
    "    \n",
    "    "
   ]
  },
  {
   "cell_type": "code",
   "execution_count": null,
   "metadata": {},
   "outputs": [],
   "source": [
    "pca = PCA(n_components=11)\n",
    "pca.fit(data_train)"
   ]
  },
  {
   "cell_type": "code",
   "execution_count": null,
   "metadata": {},
   "outputs": [],
   "source": [
    "data = pca.transform(data_train[0:2,:])"
   ]
  },
  {
   "cell_type": "code",
   "execution_count": null,
   "metadata": {},
   "outputs": [],
   "source": [
    "(data*np.zeros(11))"
   ]
  },
  {
   "cell_type": "code",
   "execution_count": null,
   "metadata": {},
   "outputs": [],
   "source": [
    "nalepa_classes = np.zeros(len(label_values))\n",
    "\n",
    "for i in range(len(train_gt)):\n",
    "    for c in range(len(nalepa_classes)):\n",
    "        amount = np.count_nonzero(train_gt[i] == c)\n",
    "        nalepa_classes[c] += amount"
   ]
  },
  {
   "cell_type": "code",
   "execution_count": null,
   "metadata": {},
   "outputs": [],
   "source": [
    "print(nalepa_classes)"
   ]
  },
  {
   "cell_type": "code",
   "execution_count": null,
   "metadata": {},
   "outputs": [],
   "source": [
    "print(np.sum(nalepa_classes[1:]))"
   ]
  },
  {
   "cell_type": "code",
   "execution_count": null,
   "metadata": {},
   "outputs": [],
   "source": [
    "np.count_nonzero(gt_np) + np.count_nonzero(test_gt)"
   ]
  },
  {
   "cell_type": "code",
   "execution_count": null,
   "metadata": {},
   "outputs": [],
   "source": [
    "np.shape(np.pad(train_patches, ((0,0), (2,2), (2,2), (0,0))))"
   ]
  },
  {
   "cell_type": "code",
   "execution_count": null,
   "metadata": {},
   "outputs": [],
   "source": [
    "utils.display_predictions(convert_to_color(gt_5), vis)"
   ]
  },
  {
   "cell_type": "code",
   "execution_count": null,
   "metadata": {},
   "outputs": [],
   "source": [
    "utils.display_dataset(patch_5, gt_5, rgb_bands, label_values, palette, vis)"
   ]
  },
  {
   "cell_type": "code",
   "execution_count": null,
   "metadata": {},
   "outputs": [],
   "source": [
    "img, gt, label_values, ignored_labels, rgb_bands, palette = get_dataset('Salinas', target_folder='/home/oscar/Desktop/Exjobb/Data/')"
   ]
  },
  {
   "cell_type": "code",
   "execution_count": null,
   "metadata": {},
   "outputs": [],
   "source": [
    "img.shape[1]"
   ]
  },
  {
   "cell_type": "code",
   "execution_count": null,
   "metadata": {},
   "outputs": [],
   "source": [
    "patch_size = 5"
   ]
  },
  {
   "cell_type": "code",
   "execution_count": null,
   "metadata": {},
   "outputs": [],
   "source": [
    "x = 0\n",
    "y = 0\n",
    "\n",
    "patch_list = []\n",
    "\n",
    "while y in range(img.shape[1]):\n",
    "    while x in range(img.shape[0]):\n",
    "        if y + patch_size <= img.shape[1]: \n",
    "            if x + patch_size <= img.shape[0]:\n",
    "                patch_list.append(img[x:x+patch_size, y:y+patch_size, :])\n",
    "        '''\n",
    "            else: \n",
    "                patch_list.append(img[x:, y:y+patch_size, :])\n",
    "        else:\n",
    "            if x + patch_size <= img.shape[0]:\n",
    "                patch_list.append(img[x:x+patch_size, y:, :])\n",
    "            else: \n",
    "                patch_list.append(img[x:, y:, :])\n",
    "        '''\n",
    "        x += patch_size\n",
    "    y += patch_size\n",
    "    x = 0"
   ]
  },
  {
   "cell_type": "code",
   "execution_count": null,
   "metadata": {},
   "outputs": [],
   "source": [
    "x = 0\n",
    "y = 0\n",
    "\n",
    "gt_list = []\n",
    "\n",
    "while y in range(gt.shape[1]):\n",
    "    while x in range(gt.shape[0]):\n",
    "        if y + patch_size <= gt.shape[1]: \n",
    "            if x + patch_size <= gt.shape[0]:\n",
    "                gt_list.append(gt[x:x+patch_size, y:y+patch_size])\n",
    "            #else: \n",
    "                #gt_list.append(gt[x:, y:y+patch_size])\n",
    "        #else:\n",
    "            #if x + patch_size <= gt.shape[0]:\n",
    "                #gt_list.append(gt[x:x+patch_size, y:])\n",
    "            #else: \n",
    "                #gt_list.append(gt[x:, y:])\n",
    "        x += patch_size\n",
    "    y += patch_size\n",
    "    x = 0"
   ]
  },
  {
   "cell_type": "code",
   "execution_count": null,
   "metadata": {},
   "outputs": [],
   "source": [
    "shape_list = []\n",
    "\n",
    "for i in range(len(gt_list)):\n",
    "    shape_list.append(np.shape(gt_list[i]))"
   ]
  },
  {
   "cell_type": "code",
   "execution_count": null,
   "metadata": {},
   "outputs": [],
   "source": [
    "gt_list[1][3,3]"
   ]
  },
  {
   "cell_type": "code",
   "execution_count": null,
   "metadata": {},
   "outputs": [],
   "source": [
    "utils.display_dataset(patch_list[453], gt_list[453], rgb_bands, label_values, palette, vis)"
   ]
  },
  {
   "cell_type": "code",
   "execution_count": null,
   "metadata": {},
   "outputs": [],
   "source": [
    "utils.display_predictions(convert_to_color(gt_list[453]), vis)"
   ]
  },
  {
   "cell_type": "code",
   "execution_count": null,
   "metadata": {},
   "outputs": [],
   "source": [
    "gt_list[453][3,3]"
   ]
  },
  {
   "cell_type": "code",
   "execution_count": null,
   "metadata": {},
   "outputs": [],
   "source": [
    "class_list = np.zeros(len(label_values))\n",
    "gt_center = np.zeros(len(gt_list))\n",
    "\n",
    "for i in range(len(gt_list)):\n",
    "    c = gt_list[i][3,3]\n",
    "    class_list[c] += 1\n",
    "    gt_center[i] = c"
   ]
  },
  {
   "cell_type": "code",
   "execution_count": null,
   "metadata": {},
   "outputs": [],
   "source": [
    "print(class_list)"
   ]
  },
  {
   "cell_type": "code",
   "execution_count": null,
   "metadata": {},
   "outputs": [],
   "source": [
    "print(np.sum(class_list[1:]))"
   ]
  },
  {
   "cell_type": "code",
   "execution_count": null,
   "metadata": {},
   "outputs": [],
   "source": [
    "np.argmax(np.bincount(gt_list[352].flatten()))"
   ]
  },
  {
   "cell_type": "code",
   "execution_count": null,
   "metadata": {},
   "outputs": [],
   "source": [
    "class_major_list = np.zeros(len(label_values))\n",
    "gt_major = np.zeros(len(gt_list))\n",
    "\n",
    "for i in range(len(gt_list)):\n",
    "    amount = np.bincount(gt_list[i].flatten())\n",
    "    c = np.argmax(amount)\n",
    "    class_major_list[c] += 1\n",
    "    gt_major[i] = c"
   ]
  },
  {
   "cell_type": "code",
   "execution_count": null,
   "metadata": {},
   "outputs": [],
   "source": [
    "print(class_major_list)"
   ]
  },
  {
   "cell_type": "code",
   "execution_count": null,
   "metadata": {},
   "outputs": [],
   "source": [
    "print(np.sum(class_major_list[1:]))"
   ]
  },
  {
   "cell_type": "code",
   "execution_count": null,
   "metadata": {},
   "outputs": [],
   "source": [
    "from datasets import get_patch_data, get_pixel_idx, HyperX_patches\n",
    "import torch\n",
    "import torch.nn as nn\n",
    "import torch.nn.functional as F\n",
    "import torch.backends.cudnn as cudnn\n",
    "from torch.optim.lr_scheduler import LambdaLR\n",
    "import torch.optim as optim\n",
    "from torch.nn import init\n",
    "from torch.autograd import Variable\n",
    "import torch.utils.data as data"
   ]
  },
  {
   "cell_type": "code",
   "execution_count": null,
   "metadata": {},
   "outputs": [],
   "source": [
    "from models import HamidaEtAl, NalepaEtAl\n",
    "import math\n",
    "from matplotlib import pyplot as plt"
   ]
  },
  {
   "cell_type": "code",
   "execution_count": null,
   "metadata": {},
   "outputs": [],
   "source": [
    "data_path = '/home/oscar/Desktop/Exjobb/Data/ieee_supplement/Hyperspectral_Grids/Pavia\\ University/'"
   ]
  },
  {
   "cell_type": "code",
   "execution_count": null,
   "metadata": {},
   "outputs": [],
   "source": [
    "train_img, train_gt, test_img, test_gt, label_values, ignored_labels, rgb_bands, palette = get_patch_data('Salinas', 1, target_folder=data_path, fold=1)\n"
   ]
  },
  {
   "cell_type": "code",
   "execution_count": null,
   "metadata": {},
   "outputs": [],
   "source": [
    "n_bands = train_img.shape[-1]\n",
    "n_classes = len(label_values) - len(ignored_labels)"
   ]
  },
  {
   "cell_type": "code",
   "execution_count": null,
   "metadata": {},
   "outputs": [],
   "source": [
    "model = HamidaEtAl(n_bands, n_classes,\n",
    "                       patch_size=5)\n",
    "\n",
    "optimizer = optim.SGD(model.parameters(), lr=0.01, momentum=0.9,\n",
    "                          nesterov=True)"
   ]
  },
  {
   "cell_type": "code",
   "execution_count": null,
   "metadata": {},
   "outputs": [],
   "source": [
    "idx_sup, idx_val, idx_unsup = get_pixel_idx(train_img, train_gt, ignored_labels, 5)\n"
   ]
  },
  {
   "cell_type": "code",
   "execution_count": null,
   "metadata": {},
   "outputs": [],
   "source": [
    "train_labeled_gt = [train_gt[p_l, x_l, y_l] for p_l, x_l, y_l in idx_sup]\n",
    "samples_class = np.zeros(n_classes)\n",
    "for c in np.unique(train_labeled_gt):\n",
    "    samples_class[c-1] = np.count_nonzero(train_labeled_gt == c)"
   ]
  },
  {
   "cell_type": "code",
   "execution_count": null,
   "metadata": {},
   "outputs": [],
   "source": [
    "hyperparams = {'patch_size': 1, 'dataset': 'Salinas', 'ignored_labels': ignored_labels, \n",
    "               'flip_augmentation': True, 'radiation_augmentation': False, 'mixture_augmentation': False,\n",
    "              'center_pixel': True, 'supervision': 'full', 'pca_augmentation': False, 'pca_strength': 1, 'cutout_spatial': False,\n",
    "              'cutout_spectral': False, 'augmentation_magnitude': 1, 'spatial_combinations': False, 'spectral_mean': False,\n",
    "              'moving_average': False}\n",
    "\n",
    "val_dataset = HyperX_patches(train_img, train_gt, idx_val, labeled=True, **hyperparams)\n",
    "val_loader = data.DataLoader(val_dataset, batch_size=10)\n",
    "\n",
    "train_labeled_dataset = HyperX_patches(train_img, train_gt, idx_sup, labeled=True, **hyperparams)\n",
    "train_labeled_loader = data.DataLoader(train_labeled_dataset, batch_size=10,\n",
    "                                       #pin_memory=True, num_workers=5,\n",
    "                                       shuffle=True, drop_last=True)\n",
    "\n",
    "unlabeled_ratio = math.ceil(len(idx_unsup)/len(idx_sup))\n",
    "\n",
    "train_unlabeled_dataset = HyperX_patches(train_img, train_gt, idx_unsup, labeled=False, **hyperparams)\n",
    "train_unlabeled_loader = data.DataLoader(train_unlabeled_dataset, batch_size=10*unlabeled_ratio,\n",
    "                                       #pin_memory=True, num_workers=5,\n",
    "                                       shuffle=True, drop_last=True)\n",
    "amount_labeled = idx_sup.shape[0]"
   ]
  },
  {
   "cell_type": "code",
   "execution_count": null,
   "metadata": {},
   "outputs": [],
   "source": [
    "data = train_img[idx_unsup[0][0], 0:5:, 9:14]\n",
    "data_aug = np.zeros_like(data)\n",
    "data_train = data - np.mean(data, axis=(0,1,2))\n",
    "for x,y in np.ndenumerate(data[:,:,0]):\n",
    "    print(x)\n",
    "    print(y)"
   ]
  },
  {
   "cell_type": "code",
   "execution_count": null,
   "metadata": {},
   "outputs": [],
   "source": [
    "new_data = np.copy(data)\n",
    "M=4\n",
    "bands = 2*M\n",
    "channels = data.shape[-1]\n",
    "chunks = channels/bands\n",
    "print(chunks)\n",
    "for i in range(math.ceil(chunks)):\n",
    "    print(i)\n",
    "    print(channels*i/chunks)\n",
    "    print(int(channels*(i+1)/chunks))\n",
    "    print(new_data[:,:,int(channels*i/chunks):int(channels*(i+1)/chunks)].shape)\n",
    "    print(np.stack((np.mean(data[:,:,int(channels*i/chunks):int(channels*(i+1)/chunks)], axis=2) for _ in range(new_data[:,:,int(channels*i/chunks):int(channels*(i+1)/chunks)].shape[-1])), axis=2).shape)\n",
    "    new_data[:,:,int(channels*i/chunks):int(channels*(i+1)/chunks)] = np.stack((np.mean(data[:,:,int(channels*i/chunks):int(channels*(i+1)/chunks)], axis=2) for _ in range(new_data[:,:,int(channels*i/chunks):int(channels*(i+1)/chunks)].shape[-1])), axis=2)"
   ]
  },
  {
   "cell_type": "code",
   "execution_count": null,
   "metadata": {},
   "outputs": [],
   "source": [
    "print(next(iter(train_labeled_loader))[0].shape)\n",
    "print(next(iter(train_unlabeled_loader))[0].shape)\n",
    "print(next(iter(train_unlabeled_loader))[1].shape)"
   ]
  },
  {
   "cell_type": "code",
   "execution_count": null,
   "metadata": {},
   "outputs": [],
   "source": [
    "new_data = np.copy(data)\n",
    "M=1\n",
    "channels = data.shape[-1]\n",
    "for i in range(channels):\n",
    "    c1 = np.clip(i-M, 0, channels)\n",
    "    c2 = np.clip(i+M, 0, channels)\n",
    "    new_data[:,:,i] = np.mean(data[:,:,c1:c2], axis=2)"
   ]
  },
  {
   "cell_type": "code",
   "execution_count": null,
   "metadata": {},
   "outputs": [],
   "source": [
    "meeen= np.mean(data[:,:,0:2], axis=2)"
   ]
  },
  {
   "cell_type": "code",
   "execution_count": null,
   "metadata": {},
   "outputs": [],
   "source": [
    "alphas = np.random.uniform(0.01, 1, size=0)\n",
    "print(alphas.size == 0)"
   ]
  },
  {
   "cell_type": "code",
   "execution_count": null,
   "metadata": {},
   "outputs": [],
   "source": [
    "h, w, c = data.shape\n",
    "size=1\n",
    "print(data.shape)\n",
    "new_image = np.zeros_like(data)\n",
    "for x in range(h):\n",
    "    for y in range(w):\n",
    "        x1 = np.clip(x - size // 2, 0, h)\n",
    "        x2 = np.clip(x + size // 2 + 1, 0, h)\n",
    "        y1 = np.clip(y - size // 2, 0, w)\n",
    "        y2 = np.clip(y + size // 2 + 1,  0, w)\n",
    "        print((x,y))\n",
    "        print((x1,x2))\n",
    "        print((y1,y2))\n",
    "        patch = data[x1:x2, y1:y2, :]\n",
    "        print(patch.shape)\n",
    "        patch = patch.reshape(np.prod(patch.shape[:2]), c)\n",
    "        print(patch.shape)\n",
    "        delete_idx = []\n",
    "        for p in range(patch.shape[0]):\n",
    "            if np.sum(patch[p,:])==0:\n",
    "                delete_idx.append(p)\n",
    "        patch = np.delete(patch, delete_idx, 0)\n",
    "        print(patch.shape)\n",
    "        alphas = np.random.uniform(0.01, 1, size=patch.shape[0])\n",
    "        new_image[x,y,:] = np.dot(np.transpose(patch), alphas)/np.sum(alphas)"
   ]
  },
  {
   "cell_type": "code",
   "execution_count": null,
   "metadata": {},
   "outputs": [],
   "source": [
    "centered_data = train_img - np.mean(train_img, axis=(0,1,2))\n",
    "train_data = np.array([centered_data[p,x,y] for p,x,y in idx_sup])"
   ]
  },
  {
   "cell_type": "code",
   "execution_count": null,
   "metadata": {},
   "outputs": [],
   "source": [
    "ipca = PCA(n_components=11)\n",
    "pca.fit(train_data)"
   ]
  },
  {
   "cell_type": "code",
   "execution_count": null,
   "metadata": {},
   "outputs": [],
   "source": [
    "plt.plot(pca.components_[0])"
   ]
  },
  {
   "cell_type": "code",
   "execution_count": null,
   "metadata": {},
   "outputs": [],
   "source": [
    "to_transform = train_data[0,:]\n",
    "data = pca.transform(to_transform.reshape(-1,1))\n",
    "new_data = np.copy(data)\n",
    "new_data[:,0] = data[:,0]*10\n",
    "print(np.mean(new_data-data))\n",
    "transformed = pca.inverse_transform(new_data)\n",
    "print(np.mean(transformed - to_transform))"
   ]
  },
  {
   "cell_type": "code",
   "execution_count": null,
   "metadata": {},
   "outputs": [],
   "source": []
  },
  {
   "cell_type": "code",
   "execution_count": null,
   "metadata": {},
   "outputs": [],
   "source": [
    "train_gt, test_gt = utils.sample_gt(gt, 0.3,\n",
    "                                        mode='disjoint')\n",
    "\n",
    "train_gt, val_gt = utils.sample_gt(train_gt, 0.95, mode='disjoint')\n",
    "\n",
    "val_dataset = HyperX(img, val_gt, labeled=True, **hyperparams)\n",
    "val_loader = data.DataLoader(val_dataset,\n",
    "                             batch_size=10)\n",
    "\n",
    "train_labeled_gt, train_unlabeled_gt = utils.sample_gt(train_gt, 1/(7 + 1),\n",
    "                                                        mode='disjoint')\n",
    "\n",
    "samples_class = np.zeros(n_classes)\n",
    "for c in np.unique(train_labeled_gt):\n",
    "    samples_class[c-1] = np.count_nonzero(train_labeled_gt == c)\n",
    "\n",
    "train_labeled_dataset = HyperX(img, train_labeled_gt, labeled=True, **hyperparams)\n",
    "train_labeled_loader = data.DataLoader(train_labeled_dataset, batch_size=10,\n",
    "                                       #pin_memory=True, num_workers=5,\n",
    "                                       shuffle=True, drop_last=True)\n",
    "\n",
    "train_unlabeled_dataset = HyperX(img, train_unlabeled_gt, labeled=False, **hyperparams)\n",
    "train_unlabeled_loader = data.DataLoader(train_unlabeled_dataset,\n",
    "                                         batch_size=10*7,\n",
    "                                         #pin_memory=True, num_workers=5,\n",
    "                                         shuffle=True, drop_last=True)"
   ]
  },
  {
   "cell_type": "code",
   "execution_count": null,
   "metadata": {},
   "outputs": [],
   "source": [
    "samples_labeled = []\n",
    "\n",
    "for i in range(train_labeled_dataset.__len__()):\n",
    "    samples_labeled.append(train_labeled_dataset.__getitem__(i)[0])"
   ]
  },
  {
   "cell_type": "code",
   "execution_count": null,
   "metadata": {},
   "outputs": [],
   "source": [
    "samples_labeled[0]"
   ]
  },
  {
   "cell_type": "code",
   "execution_count": null,
   "metadata": {},
   "outputs": [],
   "source": [
    "samples_train = []\n",
    "\n",
    "for i in range(train_dataset.__len__()):\n",
    "    samples_train.append(train_dataset.__getitem__(i)[0])"
   ]
  },
  {
   "cell_type": "code",
   "execution_count": null,
   "metadata": {},
   "outputs": [],
   "source": [
    "samples_train[0]"
   ]
  },
  {
   "cell_type": "code",
   "execution_count": null,
   "metadata": {},
   "outputs": [],
   "source": [
    "np.max(test_img)"
   ]
  },
  {
   "cell_type": "code",
   "execution_count": null,
   "metadata": {},
   "outputs": [],
   "source": [
    "from sklearn.metrics import classification_report"
   ]
  },
  {
   "cell_type": "code",
   "execution_count": null,
   "metadata": {},
   "outputs": [],
   "source": [
    "print(classification_report(test_gt.flatten(), test_gt.flatten()))"
   ]
  },
  {
   "cell_type": "code",
   "execution_count": null,
   "metadata": {},
   "outputs": [],
   "source": [
    "for i in range(0,5):\n",
    "    print(i)"
   ]
  },
  {
   "cell_type": "code",
   "execution_count": null,
   "metadata": {},
   "outputs": [],
   "source": [
    "x_train, y_train = utils.build_dataset(train_img, train_gt, ignored_labels=ignored_labels)"
   ]
  },
  {
   "cell_type": "code",
   "execution_count": null,
   "metadata": {},
   "outputs": [],
   "source": [
    "import sklearn.svm as SVM"
   ]
  },
  {
   "cell_type": "code",
   "execution_count": null,
   "metadata": {},
   "outputs": [],
   "source": [
    "clf = SVM.SVC(class_weight='balanced')\n",
    "clf.fit(x_train, y_train)\n",
    "prediction = clf.predict(test_img.reshape(-1, n_bands))\n",
    "prediction = prediction.reshape(test_img.shape[:2])"
   ]
  },
  {
   "cell_type": "code",
   "execution_count": null,
   "metadata": {},
   "outputs": [],
   "source": [
    "run_results = utils.metrics(prediction, test_gt, ignored_labels=ignored_labels, n_classes=n_classes)\n",
    "\n",
    "mask = np.zeros(test_gt.shape, dtype='bool')\n",
    "for l in ignored_labels:\n",
    "    mask[test_gt == l] = True\n",
    "prediction[mask] = 0\n",
    "\n",
    "color_prediction = convert_to_color(prediction)\n",
    "utils.display_predictions(color_prediction, vis, gt=convert_to_color(test_gt), caption=\"Prediction vs. test ground truth\")\n",
    "\n",
    "utils.show_results(run_results, vis, label_values=label_values)"
   ]
  },
  {
   "cell_type": "code",
   "execution_count": null,
   "metadata": {},
   "outputs": [],
   "source": [
    "unique_labels = np.zeros(len(label_values))\n",
    "new_idx_sup = []\n",
    "index = 0\n",
    "for p,x,y in idx_sup:\n",
    "    label = train_gt[p,x,y]\n",
    "    if unique_labels[label] < 10:\n",
    "        unique_labels[label] += 1\n",
    "        new_idx_sup.append([p,x,y])\n",
    "        np.delete(idx_sup, index)\n",
    "    index += 1"
   ]
  },
  {
   "cell_type": "code",
   "execution_count": null,
   "metadata": {},
   "outputs": [],
   "source": [
    "np.asarray(new_idx_sup).shape"
   ]
  },
  {
   "cell_type": "code",
   "execution_count": null,
   "metadata": {},
   "outputs": [],
   "source": [
    "idx_sup"
   ]
  },
  {
   "cell_type": "code",
   "execution_count": null,
   "metadata": {},
   "outputs": [],
   "source": [
    "new_idx_unsup = np.concatenate((idx_sup, idx_unsup))"
   ]
  },
  {
   "cell_type": "code",
   "execution_count": null,
   "metadata": {},
   "outputs": [],
   "source": [
    "new_idx_unsup.shape"
   ]
  },
  {
   "cell_type": "code",
   "execution_count": null,
   "metadata": {},
   "outputs": [],
   "source": [
    "data_path = '/home/oscar/Desktop/Exjobb/Data/ieee_supplement/Hyperspectral_Grids/Pavia University'\n",
    "train_img, train_gt, test_img, test_gt, label_values, ignored_labels, rgb_bands, palette = get_patch_data('Pavia', 5, target_folder=data_path)"
   ]
  },
  {
   "cell_type": "code",
   "execution_count": null,
   "metadata": {},
   "outputs": [],
   "source": [
    "import importlib\n",
    "import models\n",
    "from tqdm import tqdm"
   ]
  },
  {
   "cell_type": "code",
   "execution_count": null,
   "metadata": {},
   "outputs": [],
   "source": [
    "models = importlib.reload(models)"
   ]
  },
  {
   "cell_type": "code",
   "execution_count": null,
   "metadata": {},
   "outputs": [],
   "source": [
    "model = models.NalepaEtAl(n_bands, n_classes)\n",
    "\n",
    "optimizer = optim.SGD(model.parameters(), lr=0.01, momentum=0.9,\n",
    "                          nesterov=True)"
   ]
  },
  {
   "cell_type": "code",
   "execution_count": null,
   "metadata": {
    "scrolled": true
   },
   "outputs": [],
   "source": [
    "criterion = nn.CrossEntropyLoss()\n",
    "for e in range(5):\n",
    "    model.train()\n",
    "    for idx, (data, target) in enumerate(train_labeled_loader):\n",
    "        target = target - 1\n",
    "        output = model(data)\n",
    "        loss = criterion(output, target)\n",
    "        print(loss)\n",
    "        optimizer.zero_grad()\n",
    "        loss.backward()\n",
    "        optimizer.step()\n",
    "        "
   ]
  },
  {
   "cell_type": "code",
   "execution_count": null,
   "metadata": {},
   "outputs": [],
   "source": [
    "def test(net, img, hyperparams):\n",
    "    \"\"\"\n",
    "    Test a model on a specific image\n",
    "    \"\"\"\n",
    "    net.eval()\n",
    "    patch_size = hyperparams['patch_size']\n",
    "    center_pixel = hyperparams['center_pixel']\n",
    "    batch_size, device = hyperparams['batch_size'], hyperparams['device']\n",
    "    n_classes = hyperparams['n_classes']\n",
    "\n",
    "    kwargs = {'step': hyperparams['test_stride'], 'window_size': (patch_size, patch_size)}\n",
    "    probs = np.zeros(img.shape[:2] + (n_classes,))\n",
    "\n",
    "    iterations = utils.count_sliding_window(img, **kwargs) // batch_size\n",
    "    for batch in tqdm(utils.grouper(batch_size, utils.sliding_window(img, **kwargs)),\n",
    "                      total=(iterations), desc=\"Inference on the image\"):\n",
    "        with torch.no_grad():\n",
    "            if patch_size == 1:\n",
    "                data = [b[0][0, 0] for b in batch]\n",
    "                data = np.copy(data)\n",
    "                data = torch.from_numpy(data)\n",
    "            else:\n",
    "                data = [b[0] for b in batch]\n",
    "                data = np.copy(data)\n",
    "                data = data.transpose(0, 3, 1, 2)\n",
    "                data = torch.from_numpy(data)\n",
    "                data = data.unsqueeze(1)\n",
    "\n",
    "            indices = [b[1:] for b in batch]\n",
    "            data = data.to(device)\n",
    "            output = net(data)\n",
    "            if isinstance(output, tuple):\n",
    "                output = output[0]\n",
    "            output = output.to('cpu')\n",
    "\n",
    "            if patch_size == 1 or center_pixel:\n",
    "                output = output.numpy()\n",
    "            else:\n",
    "                output = np.transpose(output.numpy(), (0, 2, 3, 1))\n",
    "            for (x, y, w, h), out in zip(indices, output):\n",
    "                if center_pixel:\n",
    "                    probs[x + w // 2, y + h // 2] += out\n",
    "                else:\n",
    "                    probs[x:x + w, y:y + h] += out\n",
    "    return probs"
   ]
  },
  {
   "cell_type": "code",
   "execution_count": null,
   "metadata": {},
   "outputs": [],
   "source": [
    "hyperparams = {'patch_size': 1, 'dataset': 'Salinas', 'ignored_labels': ignored_labels, \n",
    "               'flip_augmentation': True, 'radiation_augmentation': False, 'mixture_augmentation': False,\n",
    "              'center_pixel': True, 'supervision': 'full', 'pca_augmentation': False, 'pca_strength': 1, 'cutout_spatial': False,\n",
    "              'cutout_spectral': False, 'augmentation_magnitude': 1, 'spatial_combinations': False, 'spectral_mean': False,\n",
    "              'moving_average': False, 'batch_size': 10, 'device': 'cpu', 'n_classes': n_classes, 'test_stride': 1}"
   ]
  },
  {
   "cell_type": "code",
   "execution_count": null,
   "metadata": {},
   "outputs": [],
   "source": [
    "probabilities = test(model, test_img, hyperparams)\n",
    "prediction = np.argmax(probabilities, axis=-1)"
   ]
  },
  {
   "cell_type": "code",
   "execution_count": null,
   "metadata": {},
   "outputs": [],
   "source": [
    "prediction"
   ]
  },
  {
   "cell_type": "code",
   "execution_count": null,
   "metadata": {},
   "outputs": [],
   "source": [
    "run_results = utils.metrics(prediction, test_gt, ignored_labels=ignored_labels, n_classes=n_classes)\n",
    "\n",
    "mask = np.zeros(test_gt.shape, dtype='bool')\n",
    "prediction\n",
    "for l in ignored_labels:\n",
    "    mask[test_gt == l] = True\n",
    "prediction += 1\n",
    "prediction[mask] = 0\n",
    "\n",
    "color_prediction = convert_to_color(prediction)\n",
    "utils.display_predictions(color_prediction, vis, gt=convert_to_color(test_gt), caption=\"Prediction vs. test ground truth\")\n",
    "\n",
    "utils.show_results(run_results, vis, label_values=label_values)"
   ]
  },
  {
   "cell_type": "code",
   "execution_count": null,
   "metadata": {},
   "outputs": [],
   "source": [
    "x = data.squeeze(dim=-1).squeeze(dim=-1)"
   ]
  },
  {
   "cell_type": "code",
   "execution_count": null,
   "metadata": {},
   "outputs": [],
   "source": [
    "x.unsqueeze(1).shape"
   ]
  },
  {
   "cell_type": "code",
   "execution_count": null,
   "metadata": {},
   "outputs": [],
   "source": [
    "c = np.zeros((10,8))\n",
    "a = np.array([(0,x,y) for x in range(c.shape[0]) for y in range(c.shape[1])])\n",
    "a"
   ]
  },
  {
   "cell_type": "code",
   "execution_count": null,
   "metadata": {},
   "outputs": [],
   "source": [
    "a = [1,2,3,4]\n",
    "b = [5,6]\n",
    "\n",
    "for idx,(i,j) in enumerate(zip(a,b)):\n",
    "    print(idx)\n",
    "    print(i)\n",
    "    print(j)"
   ]
  },
  {
   "cell_type": "code",
   "execution_count": null,
   "metadata": {},
   "outputs": [],
   "source": [
    "np.random.randint(5)"
   ]
  },
  {
   "cell_type": "code",
   "execution_count": null,
   "metadata": {},
   "outputs": [],
   "source": [
    "[a[p,x,y) for p,x,y in [(0,0,0), (1,1,1), (2,2,2)]]"
   ]
  },
  {
   "cell_type": "code",
   "execution_count": null,
   "metadata": {},
   "outputs": [],
   "source": []
  }
 ],
 "metadata": {
  "kernelspec": {
   "display_name": "Python 3",
   "language": "python",
   "name": "python3"
  },
  "language_info": {
   "codemirror_mode": {
    "name": "ipython",
    "version": 3
   },
   "file_extension": ".py",
   "mimetype": "text/x-python",
   "name": "python",
   "nbconvert_exporter": "python",
   "pygments_lexer": "ipython3",
   "version": "3.7.4"
  }
 },
 "nbformat": 4,
 "nbformat_minor": 2
}
