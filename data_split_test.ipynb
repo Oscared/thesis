{
 "cells": [
  {
   "cell_type": "code",
   "execution_count": 2,
   "metadata": {},
   "outputs": [],
   "source": [
    "data_path = '/home/oscar/Desktop/Exjobb/Data/ieee_supplement/Hyperspectral_Grids/Salinas/'"
   ]
  },
  {
   "cell_type": "code",
   "execution_count": 22,
   "metadata": {},
   "outputs": [],
   "source": [
    "import numpy as np\n",
    "import visdom\n",
    "import utils\n",
    "import seaborn as sns\n",
    "from datasets import get_dataset, HyperX\n",
    "import os\n",
    "from sklearn import preprocessing\n",
    "from sklearn.decomposition import PCA\n",
    "import random"
   ]
  },
  {
   "cell_type": "code",
   "execution_count": 4,
   "metadata": {},
   "outputs": [
    {
     "name": "stderr",
     "output_type": "stream",
     "text": [
      "Setting up a new session...\n"
     ]
    }
   ],
   "source": [
    "vis = visdom.Visdom()"
   ]
  },
  {
   "cell_type": "code",
   "execution_count": 5,
   "metadata": {},
   "outputs": [],
   "source": [
    "label_values = [\"Undefined\", \"Brocoli_green_weeds_1\", \"Brocoli_green_weeds_2\", \"Fallow\",\n",
    "                        \"Fallow_rough_plow\", \"Fallow_smooth\", \"Stubble\",\n",
    "                        \"Celery\", \"Grapes_untrained\", \"Soil_vinyard_develop\",\n",
    "                        \"Corn_senesced_green_weeds\", \"Lettuce_romaine_4wk\", \"Lettuce_romaine_5wk\",\n",
    "                        \"Lettuce_romaine_6wk\", \"Lettuce_romaine_7wk\", \"Vinyard_untrained\",\n",
    "                        \"Vinyard_vertical_trellis\"]\n",
    "\n",
    "palette = None\n",
    "rgb_bands = (43, 21, 11)\n",
    "\n",
    "if palette is None:\n",
    "    # Generate color palette\n",
    "    palette = {0: (0, 0, 0)}\n",
    "    for k, color in enumerate(sns.color_palette(\"hls\", len(label_values) - 1)):\n",
    "        palette[k + 1] = tuple(np.asarray(255 * np.array(color), dtype='uint8'))\n",
    "invert_palette = {v: k for k, v in palette.items()}\n",
    "\n",
    "def convert_to_color(x):\n",
    "    return utils.convert_to_color_(x, palette=palette)\n",
    "def convert_from_color(x):\n",
    "    return utils.convert_from_color_(x, palette=invert_palette)"
   ]
  },
  {
   "cell_type": "code",
   "execution_count": 6,
   "metadata": {},
   "outputs": [],
   "source": [
    "#train_patches = np.zeros(int((len(os.listdir(data_path + '/salinas_fold_0/'))-3)/2))\n",
    "#train_gt = np.copy(train_patches)\n",
    "\n",
    "train_patches = []\n",
    "train_gt = []\n",
    "\n",
    "for i in (range(int((len(os.listdir(data_path + '/salinas_fold_0/'))-3)/2))):\n",
    "    #train_patches[i] = np.load(data_path + '/salinas_fold_0/patch_{}.npy'.format(i))\n",
    "    #train_gt[i] = np.load(data_path + '/salinas_fold_0/patch_{}_gt.npy'.format(i))\n",
    "    \n",
    "    train_patches.append(np.load(data_path + '/salinas_fold_0/patch_{}.npy'.format(i)))\n",
    "    train_gt.append(np.load(data_path + '/salinas_fold_0/patch_{}_gt.npy'.format(i)))\n",
    "\n",
    "test = np.load(data_path + '/salinas_fold_0/test.npy')\n",
    "test_gt = np.load(data_path + '/salinas_fold_0/test_gt.npy') "
   ]
  },
  {
   "cell_type": "code",
   "execution_count": 11,
   "metadata": {},
   "outputs": [
    {
     "ename": "ValueError",
     "evalue": "Cannot take a larger sample than population when 'replace=False'",
     "output_type": "error",
     "traceback": [
      "\u001b[0;31m---------------------------------------------------------------------------\u001b[0m",
      "\u001b[0;31mValueError\u001b[0m                                Traceback (most recent call last)",
      "\u001b[0;32m<ipython-input-11-da4b75c2164d>\u001b[0m in \u001b[0;36m<module>\u001b[0;34m\u001b[0m\n\u001b[0;32m----> 1\u001b[0;31m \u001b[0mnp\u001b[0m\u001b[0;34m.\u001b[0m\u001b[0mrandom\u001b[0m\u001b[0;34m.\u001b[0m\u001b[0mchoice\u001b[0m\u001b[0;34m(\u001b[0m\u001b[0mnp\u001b[0m\u001b[0;34m.\u001b[0m\u001b[0masarray\u001b[0m\u001b[0;34m(\u001b[0m\u001b[0mtrain_patches\u001b[0m\u001b[0;34m)\u001b[0m\u001b[0;34m.\u001b[0m\u001b[0mshape\u001b[0m\u001b[0;34m,\u001b[0m \u001b[0;36m5\u001b[0m\u001b[0;34m,\u001b[0m \u001b[0mreplace\u001b[0m\u001b[0;34m=\u001b[0m\u001b[0;32mFalse\u001b[0m\u001b[0;34m)\u001b[0m\u001b[0;34m\u001b[0m\u001b[0;34m\u001b[0m\u001b[0m\n\u001b[0m",
      "\u001b[0;32mmtrand.pyx\u001b[0m in \u001b[0;36mnumpy.random.mtrand.RandomState.choice\u001b[0;34m()\u001b[0m\n",
      "\u001b[0;31mValueError\u001b[0m: Cannot take a larger sample than population when 'replace=False'"
     ]
    }
   ],
   "source": []
  },
  {
   "cell_type": "code",
   "execution_count": 12,
   "metadata": {},
   "outputs": [
    {
     "name": "stdout",
     "output_type": "stream",
     "text": [
      "5940\n",
      "4902\n",
      "[ 0  0  0 ... 26 26 26] [ 0  0  0 ... 21 21 21][0 1 2 ... 7 8 9]\n"
     ]
    }
   ],
   "source": [
    "mask = np.ones_like(train_gt)\n",
    "print(np.count_nonzero(mask))\n",
    "for i in range(len(mask)):\n",
    "    mask[i, train_gt[i] == 0] = 0\n",
    "print(np.count_nonzero(mask))\n",
    "p,x,y = np.nonzero(mask)\n",
    "print(str(p) + ' ' + str(x) + '' + str(y))\n",
    "p_u, x_u, y_u = np.nonzero(mask==0)"
   ]
  },
  {
   "cell_type": "code",
   "execution_count": 13,
   "metadata": {},
   "outputs": [],
   "source": [
    "gt_np = np.array(train_gt)\n",
    "train_np = np.array(train_patches)"
   ]
  },
  {
   "cell_type": "code",
   "execution_count": 24,
   "metadata": {},
   "outputs": [],
   "source": [
    "idx = set()\n",
    "\n",
    "while len(idx) < 0.05*np.prod(gt_np.shape):\n",
    "    p = np.random.randint(gt_np.shape[0])\n",
    "    x = np.random.randint(gt_np.shape[1])\n",
    "    y = np.random.randint(gt_np.shape[2])\n",
    "    if (p,x,y) not in idx:\n",
    "        idx.add((p,x,y))"
   ]
  },
  {
   "cell_type": "code",
   "execution_count": 38,
   "metadata": {},
   "outputs": [
    {
     "data": {
      "text/plain": [
       "array([[22,  6,  2],\n",
       "       [ 8,  1,  7],\n",
       "       [ 0, 10,  4],\n",
       "       [23,  3,  7],\n",
       "       [23, 18,  6],\n",
       "       [15, 11,  2],\n",
       "       [23, 14,  4],\n",
       "       [ 8, 12,  6],\n",
       "       [21, 10,  3],\n",
       "       [14,  9,  8],\n",
       "       [13, 10,  4],\n",
       "       [25,  1,  6],\n",
       "       [11,  8,  0],\n",
       "       [ 4, 12,  7],\n",
       "       [15, 14,  6],\n",
       "       [21, 11,  8],\n",
       "       [26, 20,  0],\n",
       "       [15, 21,  7],\n",
       "       [16,  7,  1],\n",
       "       [19, 15,  0],\n",
       "       [15,  0,  0],\n",
       "       [11,  8,  2],\n",
       "       [ 7, 11,  7],\n",
       "       [ 3,  0,  7],\n",
       "       [ 4,  8,  4],\n",
       "       [ 7, 13,  5],\n",
       "       [ 1, 13,  4],\n",
       "       [ 3,  8,  0],\n",
       "       [ 0,  5,  3],\n",
       "       [19,  2,  9],\n",
       "       [25,  4,  1],\n",
       "       [ 5, 15,  9],\n",
       "       [12,  4,  6],\n",
       "       [ 9, 18,  4],\n",
       "       [20,  0,  3],\n",
       "       [ 9,  6,  3],\n",
       "       [ 2, 17,  2],\n",
       "       [26, 15,  2],\n",
       "       [ 9, 14,  4],\n",
       "       [ 9, 19,  7],\n",
       "       [23,  6,  5],\n",
       "       [18,  3,  1],\n",
       "       [ 6, 11,  4],\n",
       "       [ 9,  1,  5],\n",
       "       [21,  0,  9],\n",
       "       [ 5, 17,  3],\n",
       "       [ 3,  9,  7],\n",
       "       [18,  9,  3],\n",
       "       [24,  7,  5],\n",
       "       [22, 21,  4],\n",
       "       [13,  8,  7],\n",
       "       [14, 18,  7],\n",
       "       [15, 15,  1],\n",
       "       [ 1, 20,  8],\n",
       "       [15,  1,  3],\n",
       "       [ 0, 21,  5],\n",
       "       [ 8,  2,  1],\n",
       "       [ 3, 15,  3],\n",
       "       [ 9, 14,  2],\n",
       "       [21, 14,  4],\n",
       "       [19,  6,  5],\n",
       "       [12, 14,  0],\n",
       "       [15, 10,  6],\n",
       "       [26, 14,  3],\n",
       "       [ 1,  0,  3],\n",
       "       [19, 11,  3],\n",
       "       [15,  4,  1],\n",
       "       [ 8, 13,  4],\n",
       "       [21, 19,  7],\n",
       "       [ 5,  6,  4],\n",
       "       [21, 15,  5],\n",
       "       [ 9, 16,  5],\n",
       "       [11,  1,  2],\n",
       "       [21,  9,  1],\n",
       "       [23,  9,  0],\n",
       "       [ 9,  7,  6],\n",
       "       [24, 18,  0],\n",
       "       [ 0,  6,  5],\n",
       "       [ 4,  3,  0],\n",
       "       [26, 11,  8],\n",
       "       [16, 20,  2],\n",
       "       [11, 19,  7],\n",
       "       [22,  7,  6],\n",
       "       [ 3, 16,  6],\n",
       "       [16, 20,  0],\n",
       "       [13, 20,  1],\n",
       "       [ 2, 21,  3],\n",
       "       [24,  1,  7],\n",
       "       [ 0, 18,  7],\n",
       "       [19, 20,  2],\n",
       "       [24, 12,  6],\n",
       "       [24, 14,  9],\n",
       "       [26, 21,  0],\n",
       "       [14, 11,  8],\n",
       "       [15,  3,  0],\n",
       "       [19,  7,  4],\n",
       "       [23, 16,  4],\n",
       "       [18, 14,  0],\n",
       "       [19,  6,  9],\n",
       "       [24,  3,  0],\n",
       "       [19,  7,  6],\n",
       "       [14, 16,  0],\n",
       "       [ 8, 10,  6],\n",
       "       [ 4,  5,  6],\n",
       "       [ 7,  0,  3],\n",
       "       [24,  3,  6],\n",
       "       [ 8,  1,  2],\n",
       "       [18, 20,  0],\n",
       "       [16, 16,  7],\n",
       "       [11, 12,  8],\n",
       "       [13,  4,  9],\n",
       "       [15, 11,  7],\n",
       "       [22,  3,  9],\n",
       "       [11,  3,  1],\n",
       "       [ 0,  3,  5],\n",
       "       [ 2, 14,  7],\n",
       "       [22, 17,  7],\n",
       "       [25,  8,  5],\n",
       "       [ 0, 10,  3],\n",
       "       [19,  2,  0],\n",
       "       [26,  9,  9],\n",
       "       [ 4,  8,  5],\n",
       "       [ 9,  0,  7],\n",
       "       [21, 10,  0],\n",
       "       [20, 21,  5],\n",
       "       [ 7, 12,  1],\n",
       "       [20, 19,  9],\n",
       "       [22,  5,  3],\n",
       "       [14,  3,  9],\n",
       "       [ 0, 15,  6],\n",
       "       [ 9, 17,  8],\n",
       "       [14, 16,  6],\n",
       "       [16,  7,  2],\n",
       "       [ 8,  1,  8],\n",
       "       [23,  9,  5],\n",
       "       [12,  0,  6],\n",
       "       [12, 12,  4],\n",
       "       [13, 19,  9],\n",
       "       [ 8, 14,  8],\n",
       "       [25, 14,  0],\n",
       "       [ 2, 13,  1],\n",
       "       [22, 10,  5],\n",
       "       [23, 20,  9],\n",
       "       [18, 18,  3],\n",
       "       [18,  4,  8],\n",
       "       [13, 21,  4],\n",
       "       [ 1, 10,  4],\n",
       "       [23, 18,  5],\n",
       "       [ 9,  0,  9],\n",
       "       [22,  3,  1],\n",
       "       [12, 12,  2],\n",
       "       [ 7, 16,  8],\n",
       "       [ 0, 15,  2],\n",
       "       [19,  9,  3],\n",
       "       [ 4, 12,  4],\n",
       "       [ 5, 17,  4],\n",
       "       [ 3, 19,  0],\n",
       "       [ 0, 15,  0],\n",
       "       [ 9,  6,  0],\n",
       "       [13,  2,  8],\n",
       "       [22,  1,  8],\n",
       "       [17,  0,  3],\n",
       "       [14, 10,  5],\n",
       "       [24, 16,  4],\n",
       "       [15,  0,  3],\n",
       "       [16, 14,  0],\n",
       "       [15, 19,  0],\n",
       "       [ 4,  1,  4],\n",
       "       [12,  2,  7],\n",
       "       [15,  7,  3],\n",
       "       [ 2, 17,  5],\n",
       "       [22,  4,  4],\n",
       "       [10,  1,  1],\n",
       "       [15, 13,  9],\n",
       "       [23,  0,  9],\n",
       "       [ 9, 18,  5],\n",
       "       [ 8,  8,  4],\n",
       "       [16,  6,  5],\n",
       "       [ 0,  2,  6],\n",
       "       [ 6, 18,  1],\n",
       "       [ 0, 19,  7],\n",
       "       [16, 11,  6],\n",
       "       [26, 19,  9],\n",
       "       [ 1,  0,  8],\n",
       "       [13, 13,  5],\n",
       "       [25,  9,  6],\n",
       "       [ 2,  6,  0],\n",
       "       [13,  7,  9],\n",
       "       [13,  8,  6],\n",
       "       [17,  1,  8],\n",
       "       [ 6,  1,  1],\n",
       "       [ 3,  8,  7],\n",
       "       [17,  9,  3],\n",
       "       [16,  0,  5],\n",
       "       [ 2,  5,  4],\n",
       "       [ 9, 21,  0],\n",
       "       [ 1,  8,  7],\n",
       "       [ 9,  4,  5],\n",
       "       [12,  9,  7],\n",
       "       [ 8, 17,  1],\n",
       "       [25,  3,  7],\n",
       "       [ 0, 21,  4],\n",
       "       [25,  5,  7],\n",
       "       [25, 20,  6],\n",
       "       [15, 10,  9],\n",
       "       [10,  9,  0],\n",
       "       [21,  4,  1],\n",
       "       [17,  6,  6],\n",
       "       [24, 21,  5],\n",
       "       [20,  4,  9],\n",
       "       [15, 10,  7],\n",
       "       [11, 19,  0],\n",
       "       [ 4, 21,  9],\n",
       "       [26, 14,  2],\n",
       "       [15,  1,  6],\n",
       "       [ 0, 11,  3],\n",
       "       [ 1,  5,  2],\n",
       "       [18,  1,  3],\n",
       "       [13, 14,  0],\n",
       "       [10, 19,  3],\n",
       "       [24, 18,  1],\n",
       "       [15, 16,  1],\n",
       "       [ 3, 10,  4],\n",
       "       [ 2,  9,  5],\n",
       "       [ 8, 17,  7],\n",
       "       [19, 20,  5],\n",
       "       [14,  0,  9],\n",
       "       [12, 16,  7],\n",
       "       [25, 10,  5],\n",
       "       [13, 14,  2],\n",
       "       [22, 17,  8],\n",
       "       [18, 20,  9],\n",
       "       [19,  5,  6],\n",
       "       [10, 13,  9],\n",
       "       [23, 12,  1],\n",
       "       [ 4, 11,  6],\n",
       "       [17, 18,  7],\n",
       "       [26,  3,  2],\n",
       "       [13, 15,  9],\n",
       "       [ 0,  1,  7],\n",
       "       [ 6, 16,  2],\n",
       "       [ 5, 21,  3],\n",
       "       [18,  7,  1],\n",
       "       [ 8,  4,  3],\n",
       "       [12,  6,  0],\n",
       "       [ 5,  6,  9],\n",
       "       [15,  3,  7],\n",
       "       [ 7, 17,  7],\n",
       "       [ 5, 14,  2],\n",
       "       [11,  2,  5],\n",
       "       [ 6,  2,  1],\n",
       "       [ 5, 11,  4],\n",
       "       [ 3, 12,  7],\n",
       "       [ 5,  4,  0],\n",
       "       [ 1,  6,  5],\n",
       "       [ 3, 17,  4],\n",
       "       [ 5,  1,  2],\n",
       "       [24, 12,  5],\n",
       "       [12,  3,  9],\n",
       "       [15, 11,  8],\n",
       "       [ 5, 12,  9],\n",
       "       [ 8, 10,  5],\n",
       "       [10, 14,  5],\n",
       "       [19,  1,  7],\n",
       "       [19, 14,  1],\n",
       "       [ 8, 19,  4],\n",
       "       [17,  4,  3],\n",
       "       [ 3, 11,  1],\n",
       "       [22, 20,  0],\n",
       "       [ 3, 18,  0],\n",
       "       [25, 11,  0],\n",
       "       [ 1,  9,  6],\n",
       "       [20, 16,  6],\n",
       "       [22,  0,  5],\n",
       "       [10, 18,  0],\n",
       "       [22, 17,  0],\n",
       "       [20, 15,  2],\n",
       "       [ 1,  1,  1],\n",
       "       [16, 15,  0],\n",
       "       [17, 10,  6],\n",
       "       [20, 10,  0],\n",
       "       [23, 14,  2],\n",
       "       [13, 15,  1],\n",
       "       [ 8, 15,  2],\n",
       "       [18,  8,  9],\n",
       "       [ 8,  1,  3],\n",
       "       [24,  9,  7],\n",
       "       [22, 14,  5],\n",
       "       [ 9, 17,  7],\n",
       "       [ 7, 19,  6],\n",
       "       [ 7, 12,  0],\n",
       "       [ 8,  6,  4],\n",
       "       [13, 21,  1],\n",
       "       [13,  6,  7],\n",
       "       [12, 13,  6],\n",
       "       [19,  8,  5],\n",
       "       [18, 13,  9]])"
      ]
     },
     "execution_count": 38,
     "metadata": {},
     "output_type": "execute_result"
    }
   ],
   "source": [
    "idx_np = np.array(list(idx))\n",
    "idx_np"
   ]
  },
  {
   "cell_type": "code",
   "execution_count": 42,
   "metadata": {},
   "outputs": [
    {
     "data": {
      "text/plain": [
       "(27, 22, 10, 204)"
      ]
     },
     "execution_count": 42,
     "metadata": {},
     "output_type": "execute_result"
    }
   ],
   "source": [
    "train_np.shape"
   ]
  },
  {
   "cell_type": "code",
   "execution_count": 227,
   "metadata": {},
   "outputs": [],
   "source": [
    "ignored_labels = [0]\n",
    "patch_size = 5\n",
    "\n",
    "pad_width = patch_size // 2\n",
    "\n",
    "train_np = np.pad(train_np, ((0,0), (pad_width, pad_width), (pad_width, pad_width), (0,0)))\n",
    "gt_np = np.pad(gt_np, ((0,0), (pad_width, pad_width), (pad_width, pad_width)))"
   ]
  },
  {
   "cell_type": "code",
   "execution_count": 243,
   "metadata": {},
   "outputs": [],
   "source": [
    "mask = np.ones_like(gt_np)\n",
    "for l in ignored_labels:\n",
    "    mask[gt_np == l] = 0\n",
    "patch_labeled, x_labeled, y_labeled = np.nonzero(mask)\n",
    "\n",
    "for l in ignored_labels:\n",
    "    patch_unlabeled, x_unlabeled, y_unlabeled = np.nonzero(mask==l)\n",
    "\n",
    "p = patch_size // 2\n",
    "\n",
    "indices_labeled = np.array([(p_l, x_l, y_l) for p_l, x_l, y_l in zip(patch_labeled, x_labeled, y_labeled) if x_l >= p and x_l < train_np.shape[1] - p and y_l >= p and y_l < train_np.shape[2] - p])\n",
    "labels = [gt_np[p_l, x_l, y_l] for p_l, x_l, y_l in indices_labeled]\n",
    "\n",
    "indices_unlabeled = np.array([(p_u, x_u, y_u) for p_u, x_u, y_u in zip(patch_unlabeled, x_unlabeled, y_unlabeled) if x_u >= p and x_u < train_np.shape[1] - p and y_u >= p and y_u < train_np.shape[2] - p])\n",
    "\n",
    "indices_labeled_shuffle = np.copy(indices_labeled)\n",
    "indices_unlabeled_shuffle = np.copy(indices_unlabeled)\n",
    "\n",
    "np.random.shuffle(indices_labeled_shuffle)\n",
    "np.random.shuffle(indices_unlabeled_shuffle)"
   ]
  },
  {
   "cell_type": "code",
   "execution_count": 352,
   "metadata": {},
   "outputs": [
    {
     "data": {
      "text/plain": [
       "15"
      ]
     },
     "execution_count": 352,
     "metadata": {},
     "output_type": "execute_result"
    }
   ],
   "source": [
    "p, x, y = indices_labeled[0]\n",
    "\n",
    "data = train_np[p, x-pad_width:x - pad_width + patch_size, y-pad_width:y-pad_width+patch_size]\n",
    "\n",
    "label = gt_np[p, x-pad_width:x - pad_width + patch_size, y-pad_width:y-pad_width+patch_size]\n",
    "labels[0]"
   ]
  },
  {
   "cell_type": "code",
   "execution_count": 294,
   "metadata": {},
   "outputs": [],
   "source": [
    "reshape = train_np.reshape(np.prod(train_np.shape[:3]), np.prod(train_np.shape[3:]))\n",
    "scaler = preprocessing.MinMaxScaler()\n",
    "reshape = scaler.fit_transform(reshape)\n",
    "img_list = reshape.reshape(train_np.shape)\n",
    "\n",
    "test = np.asarray(test, dtype='float32')\n",
    "data_test = test.reshape(np.prod(test.shape[:2]), np.prod(test.shape[2:]))\n",
    "data_test = scaler.transform(data_test)\n",
    "test_patch = data_test.reshape(test.shape)"
   ]
  },
  {
   "cell_type": "code",
   "execution_count": 330,
   "metadata": {},
   "outputs": [
    {
     "data": {
      "text/plain": [
       "1.1002865"
      ]
     },
     "execution_count": 330,
     "metadata": {},
     "output_type": "execute_result"
    }
   ],
   "source": [
    "np.max((test - np.min(train_np))/(np.max(train_np) - np.min(train_np)))"
   ]
  },
  {
   "cell_type": "code",
   "execution_count": 362,
   "metadata": {},
   "outputs": [
    {
     "data": {
      "text/plain": [
       "PCA(copy=True, iterated_power='auto', n_components=11, random_state=None,\n",
       "    svd_solver='auto', tol=0.0, whiten=False)"
      ]
     },
     "execution_count": 362,
     "metadata": {},
     "output_type": "execute_result"
    }
   ],
   "source": [
    "data_train = np.array([train_np[p_l, x_l, y_l] for p_l, x_l, y_l in zip(patch_labeled, x_labeled, y_labeled) if x_l >= p and x_l < train_np.shape[1] - p and y_l >= p and y_l < train_np.shape[2] - p])\n",
    "\n",
    "pca = PCA(n_components=11)\n",
    "pca.fit(data_train)"
   ]
  },
  {
   "cell_type": "code",
   "execution_count": 147,
   "metadata": {},
   "outputs": [],
   "source": [
    "nalepa_classes = np.zeros(len(label_values))\n",
    "\n",
    "for i in range(len(train_gt)):\n",
    "    for c in range(len(nalepa_classes)):\n",
    "        amount = np.count_nonzero(train_gt[i] == c)\n",
    "        nalepa_classes[c] += amount"
   ]
  },
  {
   "cell_type": "code",
   "execution_count": 111,
   "metadata": {},
   "outputs": [
    {
     "name": "stdout",
     "output_type": "stream",
     "text": [
      "[1038.  222.  370.    0.    0.  151.    0.    0. 1411.  220.  837.  100.\n",
      "   24.   41.  187. 1310.   29.]\n"
     ]
    }
   ],
   "source": [
    "print(nalepa_classes)"
   ]
  },
  {
   "cell_type": "code",
   "execution_count": 114,
   "metadata": {},
   "outputs": [
    {
     "name": "stdout",
     "output_type": "stream",
     "text": [
      "4902.0\n"
     ]
    }
   ],
   "source": [
    "print(np.sum(nalepa_classes[1:]))"
   ]
  },
  {
   "cell_type": "code",
   "execution_count": 364,
   "metadata": {},
   "outputs": [
    {
     "data": {
      "text/plain": [
       "54129"
      ]
     },
     "execution_count": 364,
     "metadata": {},
     "output_type": "execute_result"
    }
   ],
   "source": [
    "np.count_nonzero(gt_np) + np.count_nonzero(test_gt)"
   ]
  },
  {
   "cell_type": "code",
   "execution_count": 127,
   "metadata": {},
   "outputs": [
    {
     "data": {
      "text/plain": [
       "(27, 26, 14, 204)"
      ]
     },
     "execution_count": 127,
     "metadata": {},
     "output_type": "execute_result"
    }
   ],
   "source": [
    "np.shape(np.pad(train_patches, ((0,0), (2,2), (2,2), (0,0))))"
   ]
  },
  {
   "cell_type": "code",
   "execution_count": 22,
   "metadata": {},
   "outputs": [],
   "source": [
    "utils.display_predictions(convert_to_color(gt_5), vis)"
   ]
  },
  {
   "cell_type": "code",
   "execution_count": 23,
   "metadata": {},
   "outputs": [
    {
     "name": "stdout",
     "output_type": "stream",
     "text": [
      "Image has dimensions 22x10 and 204 channels\n"
     ]
    }
   ],
   "source": [
    "utils.display_dataset(patch_5, gt_5, rgb_bands, label_values, palette, vis)"
   ]
  },
  {
   "cell_type": "code",
   "execution_count": 7,
   "metadata": {},
   "outputs": [],
   "source": [
    "img, gt, label_values, ignored_labels, rgb_bands, palette = get_dataset('Salinas', target_folder='/home/oscar/Desktop/Exjobb/Data/')"
   ]
  },
  {
   "cell_type": "code",
   "execution_count": 46,
   "metadata": {},
   "outputs": [
    {
     "data": {
      "text/plain": [
       "217"
      ]
     },
     "execution_count": 46,
     "metadata": {},
     "output_type": "execute_result"
    }
   ],
   "source": [
    "img.shape[1]"
   ]
  },
  {
   "cell_type": "code",
   "execution_count": 16,
   "metadata": {},
   "outputs": [],
   "source": [
    "patch_size = 5"
   ]
  },
  {
   "cell_type": "code",
   "execution_count": 91,
   "metadata": {},
   "outputs": [],
   "source": [
    "x = 0\n",
    "y = 0\n",
    "\n",
    "patch_list = []\n",
    "\n",
    "while y in range(img.shape[1]):\n",
    "    while x in range(img.shape[0]):\n",
    "        if y + patch_size <= img.shape[1]: \n",
    "            if x + patch_size <= img.shape[0]:\n",
    "                patch_list.append(img[x:x+patch_size, y:y+patch_size, :])\n",
    "        '''\n",
    "            else: \n",
    "                patch_list.append(img[x:, y:y+patch_size, :])\n",
    "        else:\n",
    "            if x + patch_size <= img.shape[0]:\n",
    "                patch_list.append(img[x:x+patch_size, y:, :])\n",
    "            else: \n",
    "                patch_list.append(img[x:, y:, :])\n",
    "        '''\n",
    "        x += patch_size\n",
    "    y += patch_size\n",
    "    x = 0"
   ]
  },
  {
   "cell_type": "code",
   "execution_count": 64,
   "metadata": {},
   "outputs": [],
   "source": [
    "x = 0\n",
    "y = 0\n",
    "\n",
    "gt_list = []\n",
    "\n",
    "while y in range(gt.shape[1]):\n",
    "    while x in range(gt.shape[0]):\n",
    "        if y + patch_size <= gt.shape[1]: \n",
    "            if x + patch_size <= gt.shape[0]:\n",
    "                gt_list.append(gt[x:x+patch_size, y:y+patch_size])\n",
    "            #else: \n",
    "                #gt_list.append(gt[x:, y:y+patch_size])\n",
    "        #else:\n",
    "            #if x + patch_size <= gt.shape[0]:\n",
    "                #gt_list.append(gt[x:x+patch_size, y:])\n",
    "            #else: \n",
    "                #gt_list.append(gt[x:, y:])\n",
    "        x += patch_size\n",
    "    y += patch_size\n",
    "    x = 0"
   ]
  },
  {
   "cell_type": "code",
   "execution_count": 65,
   "metadata": {},
   "outputs": [],
   "source": [
    "shape_list = []\n",
    "\n",
    "for i in range(len(gt_list)):\n",
    "    shape_list.append(np.shape(gt_list[i]))"
   ]
  },
  {
   "cell_type": "code",
   "execution_count": 72,
   "metadata": {},
   "outputs": [
    {
     "data": {
      "text/plain": [
       "0"
      ]
     },
     "execution_count": 72,
     "metadata": {},
     "output_type": "execute_result"
    }
   ],
   "source": [
    "gt_list[1][3,3]"
   ]
  },
  {
   "cell_type": "code",
   "execution_count": 35,
   "metadata": {},
   "outputs": [
    {
     "name": "stdout",
     "output_type": "stream",
     "text": [
      "Image has dimensions 5x5 and 204 channels\n"
     ]
    }
   ],
   "source": [
    "utils.display_dataset(patch_list[453], gt_list[453], rgb_bands, label_values, palette, vis)"
   ]
  },
  {
   "cell_type": "code",
   "execution_count": 32,
   "metadata": {},
   "outputs": [],
   "source": [
    "utils.display_predictions(convert_to_color(gt_list[453]), vis)"
   ]
  },
  {
   "cell_type": "code",
   "execution_count": 49,
   "metadata": {},
   "outputs": [
    {
     "data": {
      "text/plain": [
       "8"
      ]
     },
     "execution_count": 49,
     "metadata": {},
     "output_type": "execute_result"
    }
   ],
   "source": [
    "gt_list[453][3,3]"
   ]
  },
  {
   "cell_type": "code",
   "execution_count": 86,
   "metadata": {},
   "outputs": [],
   "source": [
    "class_list = np.zeros(len(label_values))\n",
    "gt_center = np.zeros(len(gt_list))\n",
    "\n",
    "for i in range(len(gt_list)):\n",
    "    c = gt_list[i][3,3]\n",
    "    class_list[c] += 1\n",
    "    gt_center[i] = c"
   ]
  },
  {
   "cell_type": "code",
   "execution_count": 87,
   "metadata": {},
   "outputs": [
    {
     "name": "stdout",
     "output_type": "stream",
     "text": [
      "[2237.   77.  150.   81.   51.  100.  159.  147.  452.  254.  129.   42.\n",
      "   76.   36.   41.  286.   68.]\n"
     ]
    }
   ],
   "source": [
    "print(class_list)"
   ]
  },
  {
   "cell_type": "code",
   "execution_count": 113,
   "metadata": {},
   "outputs": [
    {
     "name": "stdout",
     "output_type": "stream",
     "text": [
      "2149.0\n"
     ]
    }
   ],
   "source": [
    "print(np.sum(class_list[1:]))"
   ]
  },
  {
   "cell_type": "code",
   "execution_count": 88,
   "metadata": {},
   "outputs": [
    {
     "data": {
      "text/plain": [
       "8"
      ]
     },
     "execution_count": 88,
     "metadata": {},
     "output_type": "execute_result"
    }
   ],
   "source": [
    "np.argmax(np.bincount(gt_list[352].flatten()))"
   ]
  },
  {
   "cell_type": "code",
   "execution_count": 89,
   "metadata": {},
   "outputs": [],
   "source": [
    "class_major_list = np.zeros(len(label_values))\n",
    "gt_major = np.zeros(len(gt_list))\n",
    "\n",
    "for i in range(len(gt_list)):\n",
    "    amount = np.bincount(gt_list[i].flatten())\n",
    "    c = np.argmax(amount)\n",
    "    class_major_list[c] += 1\n",
    "    gt_major[i] = c"
   ]
  },
  {
   "cell_type": "code",
   "execution_count": 90,
   "metadata": {},
   "outputs": [
    {
     "name": "stdout",
     "output_type": "stream",
     "text": [
      "[2229.   82.  148.   80.   57.  103.  152.  142.  452.  251.  131.   42.\n",
      "   77.   36.   43.  290.   71.]\n"
     ]
    }
   ],
   "source": [
    "print(class_major_list)"
   ]
  },
  {
   "cell_type": "code",
   "execution_count": 112,
   "metadata": {},
   "outputs": [
    {
     "name": "stdout",
     "output_type": "stream",
     "text": [
      "2157.0\n"
     ]
    }
   ],
   "source": [
    "print(np.sum(class_major_list[1:]))"
   ]
  },
  {
   "cell_type": "code",
   "execution_count": 115,
   "metadata": {},
   "outputs": [
    {
     "data": {
      "text/plain": [
       "21.599999999999998"
      ]
     },
     "execution_count": 115,
     "metadata": {},
     "output_type": "execute_result"
    }
   ],
   "source": []
  },
  {
   "cell_type": "code",
   "execution_count": null,
   "metadata": {},
   "outputs": [],
   "source": []
  }
 ],
 "metadata": {
  "kernelspec": {
   "display_name": "Python 3",
   "language": "python",
   "name": "python3"
  },
  "language_info": {
   "codemirror_mode": {
    "name": "ipython",
    "version": 3
   },
   "file_extension": ".py",
   "mimetype": "text/x-python",
   "name": "python",
   "nbconvert_exporter": "python",
   "pygments_lexer": "ipython3",
   "version": "3.7.4"
  }
 },
 "nbformat": 4,
 "nbformat_minor": 2
}
